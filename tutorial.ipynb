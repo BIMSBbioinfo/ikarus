{
 "cells": [
  {
   "cell_type": "markdown",
   "metadata": {},
   "source": [
    "# Tutorial\n",
    "The basic steps of ikarus are similar to the [sklearn workflow](https://scikit-learn.org/stable/getting_started.html#fitting-and-predicting-estimator-basics):\n",
    "\n",
    "0. load data sets\n",
    "1. init model\n",
    "2. fit model\n",
    "3. predict"
   ]
  },
  {
   "cell_type": "code",
   "execution_count": 1,
   "metadata": {},
   "outputs": [],
   "source": [
    "import anndata\n",
    "import pandas as pd\n",
    "from pathlib import Path\n",
    "from ikarus import classifier, utils"
   ]
  },
  {
   "cell_type": "markdown",
   "metadata": {},
   "source": [
    "## load data sets\n",
    "Laughney lung cancer and Lee colorectal cancer are used for training.<br>\n",
    "Tirosh head & neck cancer is used for testing.<br>\n",
    "Annotated data matrices are used here (see [AnnData](https://anndata.readthedocs.io/en/latest/anndata.AnnData.html) for further information.)\n"
   ]
  },
  {
   "cell_type": "code",
   "execution_count": 2,
   "metadata": {},
   "outputs": [],
   "source": [
    "paths = [\n",
    "    Path(\"data/laughney20_lung/\"),\n",
    "    Path(\"data/lee20_crc/\"),\n",
    "    Path(\"data/tirosh17_headneck/\")\n",
    "]\n",
    "names = [\n",
    "    \"laughney\",\n",
    "    \"lee\",\n",
    "    \"tirosh\"\n",
    "]\n",
    "adatas = {}\n",
    "for path, name in zip(paths, names):\n",
    "    adatas[name] = anndata.read_h5ad(path / \"adata.h5ad\")"
   ]
  },
  {
   "cell_type": "code",
   "execution_count": 3,
   "metadata": {},
   "outputs": [
    {
     "data": {
      "text/html": [
       "<div>\n",
       "<style scoped>\n",
       "    .dataframe tbody tr th:only-of-type {\n",
       "        vertical-align: middle;\n",
       "    }\n",
       "\n",
       "    .dataframe tbody tr th {\n",
       "        vertical-align: top;\n",
       "    }\n",
       "\n",
       "    .dataframe thead th {\n",
       "        text-align: right;\n",
       "    }\n",
       "</style>\n",
       "<table border=\"1\" class=\"dataframe\">\n",
       "  <thead>\n",
       "    <tr style=\"text-align: right;\">\n",
       "      <th></th>\n",
       "      <th>raw</th>\n",
       "      <th>major</th>\n",
       "      <th>major_hallmark_corrected</th>\n",
       "      <th>tier_0</th>\n",
       "      <th>tier_1</th>\n",
       "      <th>tier_2</th>\n",
       "      <th>tier_3</th>\n",
       "      <th>tier_4</th>\n",
       "      <th>tier_5</th>\n",
       "      <th>tier_0_hallmark_corrected</th>\n",
       "    </tr>\n",
       "  </thead>\n",
       "  <tbody>\n",
       "    <tr>\n",
       "      <th>0</th>\n",
       "      <td>CMS2</td>\n",
       "      <td>Tumor</td>\n",
       "      <td>Tumor</td>\n",
       "      <td>Tumor</td>\n",
       "      <td>Epithelial</td>\n",
       "      <td>nan</td>\n",
       "      <td>nan</td>\n",
       "      <td>nan</td>\n",
       "      <td>nan</td>\n",
       "      <td>Tumor</td>\n",
       "    </tr>\n",
       "    <tr>\n",
       "      <th>1</th>\n",
       "      <td>CMS2</td>\n",
       "      <td>Tumor</td>\n",
       "      <td>Tumor</td>\n",
       "      <td>Tumor</td>\n",
       "      <td>Epithelial</td>\n",
       "      <td>nan</td>\n",
       "      <td>nan</td>\n",
       "      <td>nan</td>\n",
       "      <td>nan</td>\n",
       "      <td>Tumor</td>\n",
       "    </tr>\n",
       "  </tbody>\n",
       "</table>\n",
       "</div>"
      ],
      "text/plain": [
       "    raw  major major_hallmark_corrected tier_0      tier_1 tier_2 tier_3  \\\n",
       "0  CMS2  Tumor                    Tumor  Tumor  Epithelial    nan    nan   \n",
       "1  CMS2  Tumor                    Tumor  Tumor  Epithelial    nan    nan   \n",
       "\n",
       "  tier_4 tier_5 tier_0_hallmark_corrected  \n",
       "0    nan    nan                     Tumor  \n",
       "1    nan    nan                     Tumor  "
      ]
     },
     "execution_count": 3,
     "metadata": {},
     "output_type": "execute_result"
    }
   ],
   "source": [
    "adatas[\"lee\"].obs.head(2)"
   ]
  },
  {
   "cell_type": "code",
   "execution_count": 4,
   "metadata": {},
   "outputs": [
    {
     "data": {
      "text/html": [
       "<div>\n",
       "<style scoped>\n",
       "    .dataframe tbody tr th:only-of-type {\n",
       "        vertical-align: middle;\n",
       "    }\n",
       "\n",
       "    .dataframe tbody tr th {\n",
       "        vertical-align: top;\n",
       "    }\n",
       "\n",
       "    .dataframe thead th {\n",
       "        text-align: right;\n",
       "    }\n",
       "</style>\n",
       "<table border=\"1\" class=\"dataframe\">\n",
       "  <thead>\n",
       "    <tr style=\"text-align: right;\">\n",
       "      <th></th>\n",
       "      <th>gene_symbol</th>\n",
       "    </tr>\n",
       "  </thead>\n",
       "  <tbody>\n",
       "    <tr>\n",
       "      <th>A1BG</th>\n",
       "      <td>A1BG</td>\n",
       "    </tr>\n",
       "    <tr>\n",
       "      <th>A1BG-AS1</th>\n",
       "      <td>A1BG-AS1</td>\n",
       "    </tr>\n",
       "  </tbody>\n",
       "</table>\n",
       "</div>"
      ],
      "text/plain": [
       "         gene_symbol\n",
       "A1BG            A1BG\n",
       "A1BG-AS1    A1BG-AS1"
      ]
     },
     "execution_count": 4,
     "metadata": {},
     "output_type": "execute_result"
    }
   ],
   "source": [
    "adatas[\"lee\"].var.head(2)"
   ]
  },
  {
   "cell_type": "code",
   "execution_count": 5,
   "metadata": {},
   "outputs": [
    {
     "data": {
      "text/html": [
       "<div>\n",
       "<style scoped>\n",
       "    .dataframe tbody tr th:only-of-type {\n",
       "        vertical-align: middle;\n",
       "    }\n",
       "\n",
       "    .dataframe tbody tr th {\n",
       "        vertical-align: top;\n",
       "    }\n",
       "\n",
       "    .dataframe thead th {\n",
       "        text-align: right;\n",
       "    }\n",
       "</style>\n",
       "<table border=\"1\" class=\"dataframe\">\n",
       "  <thead>\n",
       "    <tr style=\"text-align: right;\">\n",
       "      <th></th>\n",
       "      <th>A1BG</th>\n",
       "      <th>A1BG-AS1</th>\n",
       "      <th>A1CF</th>\n",
       "      <th>A2M</th>\n",
       "      <th>A2M-AS1</th>\n",
       "      <th>A2ML1</th>\n",
       "      <th>A2ML1-AS1</th>\n",
       "      <th>A2ML1-AS2</th>\n",
       "      <th>A3GALT2</th>\n",
       "      <th>A4GALT</th>\n",
       "      <th>...</th>\n",
       "      <th>ZXDC</th>\n",
       "      <th>ZYG11A</th>\n",
       "      <th>ZYG11B</th>\n",
       "      <th>ZYX</th>\n",
       "      <th>ZZEF1</th>\n",
       "      <th>ZZZ3</th>\n",
       "      <th>bP-21264C1.2</th>\n",
       "      <th>bP-2171C21.3</th>\n",
       "      <th>bP-2189O9.3</th>\n",
       "      <th>hsa-mir-1253</th>\n",
       "    </tr>\n",
       "  </thead>\n",
       "  <tbody>\n",
       "    <tr>\n",
       "      <th>0</th>\n",
       "      <td>0.0</td>\n",
       "      <td>0.0</td>\n",
       "      <td>0.000000</td>\n",
       "      <td>0.0</td>\n",
       "      <td>0.0</td>\n",
       "      <td>0.0</td>\n",
       "      <td>0.0</td>\n",
       "      <td>0.0</td>\n",
       "      <td>0.0</td>\n",
       "      <td>0.0</td>\n",
       "      <td>...</td>\n",
       "      <td>0.0</td>\n",
       "      <td>0.0</td>\n",
       "      <td>0.000000</td>\n",
       "      <td>0.233330</td>\n",
       "      <td>0.000000</td>\n",
       "      <td>0.0</td>\n",
       "      <td>0.0</td>\n",
       "      <td>0.0</td>\n",
       "      <td>0.0</td>\n",
       "      <td>0.0</td>\n",
       "    </tr>\n",
       "    <tr>\n",
       "      <th>1</th>\n",
       "      <td>0.0</td>\n",
       "      <td>0.0</td>\n",
       "      <td>0.465363</td>\n",
       "      <td>0.0</td>\n",
       "      <td>0.0</td>\n",
       "      <td>0.0</td>\n",
       "      <td>0.0</td>\n",
       "      <td>0.0</td>\n",
       "      <td>0.0</td>\n",
       "      <td>0.0</td>\n",
       "      <td>...</td>\n",
       "      <td>0.0</td>\n",
       "      <td>0.0</td>\n",
       "      <td>0.259511</td>\n",
       "      <td>0.908856</td>\n",
       "      <td>0.259511</td>\n",
       "      <td>0.0</td>\n",
       "      <td>0.0</td>\n",
       "      <td>0.0</td>\n",
       "      <td>0.0</td>\n",
       "      <td>0.0</td>\n",
       "    </tr>\n",
       "  </tbody>\n",
       "</table>\n",
       "<p>2 rows × 33694 columns</p>\n",
       "</div>"
      ],
      "text/plain": [
       "   A1BG  A1BG-AS1      A1CF  A2M  A2M-AS1  A2ML1  A2ML1-AS1  A2ML1-AS2  \\\n",
       "0   0.0       0.0  0.000000  0.0      0.0    0.0        0.0        0.0   \n",
       "1   0.0       0.0  0.465363  0.0      0.0    0.0        0.0        0.0   \n",
       "\n",
       "   A3GALT2  A4GALT  ...  ZXDC  ZYG11A    ZYG11B       ZYX     ZZEF1  ZZZ3  \\\n",
       "0      0.0     0.0  ...   0.0     0.0  0.000000  0.233330  0.000000   0.0   \n",
       "1      0.0     0.0  ...   0.0     0.0  0.259511  0.908856  0.259511   0.0   \n",
       "\n",
       "   bP-21264C1.2  bP-2171C21.3  bP-2189O9.3  hsa-mir-1253  \n",
       "0           0.0           0.0          0.0           0.0  \n",
       "1           0.0           0.0          0.0           0.0  \n",
       "\n",
       "[2 rows x 33694 columns]"
      ]
     },
     "execution_count": 5,
     "metadata": {},
     "output_type": "execute_result"
    }
   ],
   "source": [
    "adatas[\"lee\"].to_df().head(2)"
   ]
  },
  {
   "cell_type": "markdown",
   "metadata": {},
   "source": [
    "## signatures\n",
    "Here we just define the path of our gene signatures of choice.<br>\n",
    "(find more information on how the gene lists are created [below](#create-gene-lists))\n",
    "\n",
    "Note: It is important that the name (see first column in the example) of the gene lists<br>\n",
    "within the `signatures.gmt` file correspond to the cell type for which they are meaningful.<br>\n",
    "`signatures.gmt` is tab-separated."
   ]
  },
  {
   "cell_type": "code",
   "execution_count": 19,
   "metadata": {},
   "outputs": [],
   "source": [
    "signatures_path = Path(\"out_tutorial/signatures.gmt\")"
   ]
  },
  {
   "cell_type": "code",
   "execution_count": 20,
   "metadata": {},
   "outputs": [
    {
     "data": {
      "text/html": [
       "<div>\n",
       "<style scoped>\n",
       "    .dataframe tbody tr th:only-of-type {\n",
       "        vertical-align: middle;\n",
       "    }\n",
       "\n",
       "    .dataframe tbody tr th {\n",
       "        vertical-align: top;\n",
       "    }\n",
       "\n",
       "    .dataframe thead th {\n",
       "        text-align: right;\n",
       "    }\n",
       "</style>\n",
       "<table border=\"1\" class=\"dataframe\">\n",
       "  <thead>\n",
       "    <tr style=\"text-align: right;\">\n",
       "      <th></th>\n",
       "      <th>0</th>\n",
       "      <th>1</th>\n",
       "      <th>2</th>\n",
       "      <th>3</th>\n",
       "      <th>4</th>\n",
       "      <th>5</th>\n",
       "      <th>6</th>\n",
       "      <th>7</th>\n",
       "      <th>8</th>\n",
       "      <th>9</th>\n",
       "      <th>...</th>\n",
       "      <th>1305</th>\n",
       "      <th>1306</th>\n",
       "      <th>1307</th>\n",
       "      <th>1308</th>\n",
       "      <th>1309</th>\n",
       "      <th>1310</th>\n",
       "      <th>1311</th>\n",
       "      <th>1312</th>\n",
       "      <th>1313</th>\n",
       "      <th>1314</th>\n",
       "    </tr>\n",
       "  </thead>\n",
       "  <tbody>\n",
       "    <tr>\n",
       "      <th>0</th>\n",
       "      <td>Normal</td>\n",
       "      <td>ikarus</td>\n",
       "      <td>ATP10B</td>\n",
       "      <td>RP11-367G6.3</td>\n",
       "      <td>CFAP52</td>\n",
       "      <td>HMCN1</td>\n",
       "      <td>APOH</td>\n",
       "      <td>EPN3</td>\n",
       "      <td>MUC5AC</td>\n",
       "      <td>ANKRD66</td>\n",
       "      <td>...</td>\n",
       "      <td>CCDC80</td>\n",
       "      <td>MUC3A</td>\n",
       "      <td>SDCBP2</td>\n",
       "      <td>TNFSF8</td>\n",
       "      <td>CFAP206</td>\n",
       "      <td>LTBP2</td>\n",
       "      <td>LHFP</td>\n",
       "      <td>LCK</td>\n",
       "      <td>SRGN</td>\n",
       "      <td>TRPC4</td>\n",
       "    </tr>\n",
       "    <tr>\n",
       "      <th>1</th>\n",
       "      <td>Tumor</td>\n",
       "      <td>ikarus</td>\n",
       "      <td>RP11-277P12.10</td>\n",
       "      <td>RP13-895J2.6</td>\n",
       "      <td>BNC1</td>\n",
       "      <td>MAGEA6</td>\n",
       "      <td>ISX</td>\n",
       "      <td>MAGEA3</td>\n",
       "      <td>RP13-614K11.2</td>\n",
       "      <td>CDH7</td>\n",
       "      <td>...</td>\n",
       "      <td>NaN</td>\n",
       "      <td>NaN</td>\n",
       "      <td>NaN</td>\n",
       "      <td>NaN</td>\n",
       "      <td>NaN</td>\n",
       "      <td>NaN</td>\n",
       "      <td>NaN</td>\n",
       "      <td>NaN</td>\n",
       "      <td>NaN</td>\n",
       "      <td>NaN</td>\n",
       "    </tr>\n",
       "  </tbody>\n",
       "</table>\n",
       "<p>2 rows × 1315 columns</p>\n",
       "</div>"
      ],
      "text/plain": [
       "     0       1               2             3       4       5     6       7     \\\n",
       "0  Normal  ikarus          ATP10B  RP11-367G6.3  CFAP52   HMCN1  APOH    EPN3   \n",
       "1   Tumor  ikarus  RP11-277P12.10  RP13-895J2.6    BNC1  MAGEA6   ISX  MAGEA3   \n",
       "\n",
       "            8        9     ...    1305   1306    1307    1308     1309   1310  \\\n",
       "0         MUC5AC  ANKRD66  ...  CCDC80  MUC3A  SDCBP2  TNFSF8  CFAP206  LTBP2   \n",
       "1  RP13-614K11.2     CDH7  ...     NaN    NaN     NaN     NaN      NaN    NaN   \n",
       "\n",
       "   1311 1312  1313   1314  \n",
       "0  LHFP  LCK  SRGN  TRPC4  \n",
       "1   NaN  NaN   NaN    NaN  \n",
       "\n",
       "[2 rows x 1315 columns]"
      ]
     },
     "execution_count": 20,
     "metadata": {},
     "output_type": "execute_result"
    }
   ],
   "source": [
    "pd.read_csv(signatures_path, sep=\"\\t\", header=None)"
   ]
  },
  {
   "cell_type": "markdown",
   "metadata": {},
   "source": [
    "## train model\n",
    "Unlike the X and y input from the sklearn fitting, we are using here the AnnData object<br>\n",
    "loaded above and the corresponding observation column (annotation). The input AnnData<br>\n",
    "objects, names and target observation columns are each provided as lists. As one may want<br>\n",
    "to use multiple input data sets.\n",
    "\n",
    "(Note: Here this may take a while, as the used input data sets are quite large.<br>\n",
    "Skip this cell in case you just want load the pretrained model.)"
   ]
  },
  {
   "cell_type": "code",
   "execution_count": 21,
   "metadata": {},
   "outputs": [],
   "source": [
    "model = classifier.Ikarus(signatures_gmt=signatures_path, out_dir=\"out_tutorial\")\n",
    "\n",
    "train_adata_list = [adatas[\"laughney\"], adatas[\"lee\"]]\n",
    "train_names_list = [\"laughney\", \"lee\"]\n",
    "obs_columns_list = [\"tier_0_hallmark_corrected\", \"tier_0_hallmark_corrected\"]\n",
    "\n",
    "model.fit(train_adata_list, train_names_list, obs_columns_list, save=True)"
   ]
  },
  {
   "cell_type": "markdown",
   "metadata": {},
   "source": [
    "Alternatively just load the pretrained model."
   ]
  },
  {
   "cell_type": "code",
   "execution_count": 8,
   "metadata": {},
   "outputs": [],
   "source": [
    "model_path = Path(\"out_tutorial/core_model.joblib\")\n",
    "model = classifier.Ikarus(signatures_gmt=signatures_path, out_dir=\"out_tutorial\")\n",
    "model.load_core_model(model_path)"
   ]
  },
  {
   "cell_type": "markdown",
   "metadata": {},
   "source": [
    "## make prediction\n",
    "We provide the AnnData of an unknown data set, make predictions and save the results."
   ]
  },
  {
   "cell_type": "code",
   "execution_count": 9,
   "metadata": {},
   "outputs": [
    {
     "name": "stderr",
     "output_type": "stream",
     "text": [
      "/home/jdohmen/.miniconda3/envs/ikarus/lib/python3.8/site-packages/pandas/core/arrays/categorical.py:2487: FutureWarning: The `inplace` parameter in pandas.Categorical.remove_unused_categories is deprecated and will be removed in a future version.\n",
      "  res = method(*args, **kwargs)\n",
      "Trying to set attribute `.uns` of view, copying.\n"
     ]
    },
    {
     "name": "stdout",
     "output_type": "stream",
     "text": [
      "converged at iteration step: 9 with 0.0004 < 0.001\n"
     ]
    }
   ],
   "source": [
    "_ = model.predict(adatas['tirosh'], 'tirosh', save=True)"
   ]
  },
  {
   "cell_type": "markdown",
   "metadata": {},
   "source": [
    "Your predictions `prediction.csv` are saved to your output directory as specified in the model<br> initialization. At this point you might try to [correct the predictions by making use of CNV information](make-use-of-cnv-information-and-correct-prediction).<br>\n",
    "Else, go on with the plotting part to verify the results."
   ]
  },
  {
   "cell_type": "markdown",
   "metadata": {},
   "source": [
    "## plotting\n",
    "Make plots to investigate the prediction results."
   ]
  },
  {
   "cell_type": "code",
   "execution_count": 10,
   "metadata": {
    "code_folding": [
     5
    ]
   },
   "outputs": [],
   "source": [
    "import numpy as np\n",
    "import scanpy as sc\n",
    "import matplotlib.pyplot as plt\n",
    "from sklearn import metrics\n",
    "\n",
    "def plot_confusion_matrix(\n",
    "    y_true, y_pred, classes, normalize=False, title=None, cmap=plt.cm.Blues, ax=None\n",
    "):\n",
    "    \"\"\"\n",
    "    This function prints and plots the confusion matrix.\n",
    "    Normalization can be applied by setting `normalize=True`.\n",
    "    \"\"\"\n",
    "    plt.rcParams['figure.figsize'] = [6, 4]\n",
    "    # print(classes)\n",
    "    if not title:\n",
    "        if normalize:\n",
    "            title = \"Normalized confusion matrix\"\n",
    "        else:\n",
    "            title = \"Confusion matrix, without normalization\"\n",
    "\n",
    "    # Compute confusion matrix\n",
    "    cm = metrics.confusion_matrix(y_true, y_pred, labels=classes)\n",
    "    # Only use the labels that appear in the data\n",
    "    # classes = classes[unique_labels(y_true, y_pred)]\n",
    "    if normalize:\n",
    "        cm = cm.astype(\"float\") / cm.sum(axis=1)[:, np.newaxis]\n",
    "\n",
    "    if ax is None:\n",
    "        (fig, ax) = plt.subplots()\n",
    "\n",
    "    im = ax.imshow(cm, interpolation=\"nearest\", cmap=cmap)\n",
    "    ax.figure.colorbar(im, ax=ax)\n",
    "    # We want to show all ticks...\n",
    "    ax.set(\n",
    "        xticks=np.arange(cm.shape[1]),\n",
    "        yticks=np.arange(cm.shape[0]),\n",
    "        # ... and label them with the respective list entries\n",
    "        xticklabels=classes,\n",
    "        yticklabels=classes,\n",
    "        title=title,\n",
    "        ylabel=\"True label\",\n",
    "        xlabel=\"Predicted label\",\n",
    "    )\n",
    "    for item in (\n",
    "        [ax.title, ax.xaxis.label, ax.yaxis.label]\n",
    "        + ax.get_xticklabels()\n",
    "        + ax.get_yticklabels()\n",
    "    ):\n",
    "        item.set_fontsize(12)\n",
    "\n",
    "    # Rotate the tick labels and set their alignment.\n",
    "    plt.setp(ax.get_xticklabels(), rotation=45, ha=\"right\", rotation_mode=\"anchor\")\n",
    "\n",
    "    # Loop over data dimensions and create text annotations.\n",
    "    fmt = \".2f\" if normalize else \"d\"\n",
    "    thresh = cm.max() / 2.0\n",
    "    for i in range(cm.shape[0]):\n",
    "        for j in range(cm.shape[1]):\n",
    "            ax.text(\n",
    "                j,\n",
    "                i,\n",
    "                format(cm[i, j], fmt),\n",
    "                ha=\"center\",\n",
    "                va=\"center\",\n",
    "                color=\"white\" if cm[i, j] > thresh else \"black\",\n",
    "            )\n",
    "\n",
    "    return ax"
   ]
  },
  {
   "cell_type": "markdown",
   "metadata": {},
   "source": [
    "Compute UMAPs and store the adata object `adata_umap.h5ad`."
   ]
  },
  {
   "cell_type": "code",
   "execution_count": 11,
   "metadata": {},
   "outputs": [
    {
     "name": "stderr",
     "output_type": "stream",
     "text": [
      "... storing 'core_pred' as categorical\n",
      "... storing 'final_pred' as categorical\n"
     ]
    }
   ],
   "source": [
    "_ = model.get_umap(adatas['tirosh'], 'tirosh', save=True)"
   ]
  },
  {
   "cell_type": "markdown",
   "metadata": {},
   "source": [
    "Load prediction results and the AnnData object including the just computed UMAP coordinates."
   ]
  },
  {
   "cell_type": "code",
   "execution_count": 12,
   "metadata": {},
   "outputs": [],
   "source": [
    "path = Path(\"out_tutorial/tirosh\")\n",
    "results = pd.read_csv(path / \"prediction.csv\", index_col=0)\n",
    "adata = anndata.read_h5ad(path / \"adata_umap.h5ad\")"
   ]
  },
  {
   "cell_type": "markdown",
   "metadata": {},
   "source": [
    "Print classification metrics and show confusion matrix and UMAPs."
   ]
  },
  {
   "cell_type": "code",
   "execution_count": 13,
   "metadata": {},
   "outputs": [
    {
     "name": "stdout",
     "output_type": "stream",
     "text": [
      "              precision    recall  f1-score   support\n",
      "\n",
      "      Normal       1.00      1.00      1.00      3363\n",
      "       Tumor       1.00      1.00      1.00      2215\n",
      "\n",
      "    accuracy                           1.00      5578\n",
      "   macro avg       1.00      1.00      1.00      5578\n",
      "weighted avg       1.00      1.00      1.00      5578\n",
      "\n"
     ]
    },
    {
     "data": {
      "image/png": "[encoded data removed]",
      "text/plain": [
       "<Figure size 432x288 with 2 Axes>"
      ]
     },
     "metadata": {
      "needs_background": "light"
     },
     "output_type": "display_data"
    }
   ],
   "source": [
    "y = adata.obs.loc[:, 'tier_0']\n",
    "y_pred_lr = results['final_pred']\n",
    "acc = metrics.balanced_accuracy_score(y, y_pred_lr)\n",
    "print(metrics.classification_report(y, y_pred_lr, labels=['Normal', 'Tumor']))\n",
    "_ = plot_confusion_matrix(\n",
    "    y,\n",
    "    y_pred_lr,\n",
    "    classes=['Normal', 'Tumor'],\n",
    "    title=f'confusion matrix \\n train on laughney+lee, test on tirosh \\n balanced acc: {acc:.3f}',\n",
    ")"
   ]
  },
  {
   "cell_type": "code",
   "execution_count": 14,
   "metadata": {},
   "outputs": [
    {
     "name": "stderr",
     "output_type": "stream",
     "text": [
      "... storing 'tier_0_pred_correctness' as categorical\n"
     ]
    },
    {
     "data": {
      "image/png": "[encoded data removed]",
      "text/plain": [
       "<Figure size 648x432 with 1 Axes>"
      ]
     },
     "metadata": {},
     "output_type": "display_data"
    },
    {
     "data": {
      "image/png": "[encoded data removed]",
      "text/plain": [
       "<Figure size 648x432 with 1 Axes>"
      ]
     },
     "metadata": {},
     "output_type": "display_data"
    }
   ],
   "source": [
    "adata.obs.loc[:, 'tier_0_pred_correctness'] = 'wrongly assigned'\n",
    "adata.obs.loc[\n",
    "    adata.obs['tier_0'] == adata.obs['final_pred'],\n",
    "    'tier_0_pred_correctness'\n",
    "] = 'correctly assigned'\n",
    "adata.obs.loc[:, 'tier_0_pred_wrong'] = pd.Categorical(\n",
    "    adata.obs['tier_0'].copy(),\n",
    "    categories=np.array(['Normal', 'Tumor', 'wrongly assigned']),\n",
    "    ordered=True\n",
    ")\n",
    "adata.obs.loc[\n",
    "    adata.obs['tier_0_pred_correctness'] == 'wrongly assigned',\n",
    "    'tier_0_pred_wrong'\n",
    "] = 'wrongly assigned'\n",
    "\n",
    "plt.rcParams['figure.figsize'] = [9, 6]\n",
    "\n",
    "colors = [\n",
    "    ['major'],\n",
    "    ['tier_0_pred_wrong']\n",
    "    ]\n",
    "titles = [\n",
    "    ['major types'],\n",
    "    ['prediction']\n",
    "    ]\n",
    "palettes = [\n",
    "    ['#7f7f7f', '#98df8a', '#aec7e8', '#9467bd', '#ff0000'],\n",
    "    ['#aec7e8', '#ff0000', '#0b559f'], \n",
    "]\n",
    "for color, title, palette in zip(colors, titles, palettes):\n",
    "    ax = sc.pl.umap(\n",
    "        adata, ncols=1, size=20, \n",
    "        color=color,\n",
    "        title=title,\n",
    "        wspace=0.25,\n",
    "        vmax='p99',\n",
    "        legend_fontsize=12,\n",
    "        palette=palette,\n",
    "        show=False\n",
    "    )\n",
    "    for item in ([ax.title, ax.xaxis.label, ax.yaxis.label] + \n",
    "                 ax.get_xticklabels() + ax.get_yticklabels()):\n",
    "        item.set_fontsize(12)\n",
    "    plt.show()"
   ]
  },
  {
   "cell_type": "markdown",
   "metadata": {},
   "source": [
    "## extra"
   ]
  },
  {
   "cell_type": "markdown",
   "metadata": {},
   "source": [
    "### create gene lists"
   ]
  },
  {
   "cell_type": "code",
   "execution_count": 6,
   "metadata": {},
   "outputs": [],
   "source": [
    "import upsetplot\n",
    "import anndata\n",
    "import pandas as pd\n",
    "from pathlib import Path\n",
    "from ikarus import gene_list, utils"
   ]
  },
  {
   "cell_type": "markdown",
   "metadata": {},
   "source": [
    "#### tumor"
   ]
  },
  {
   "cell_type": "markdown",
   "metadata": {},
   "source": [
    "First, we define the input datasets used to create the gene lists,<br>\n",
    "the upregulated and downregulated cell types. Here, we consider<br>\n",
    "six different pair-wise comparisons:\n",
    "- Tumor vs. Other\n",
    "- Tumor vs. Epithelial\n",
    "- Tumor vs. Immune\n",
    "- Tumor vs. Fibroblast\n",
    "- Tumor vs. Endothelial\n",
    "- Tumor vs. Pericyte"
   ]
  },
  {
   "cell_type": "code",
   "execution_count": 7,
   "metadata": {},
   "outputs": [],
   "source": [
    "paths = [\n",
    "    Path(\"data/laughney20_lung/\"),\n",
    "    Path(\"data/lee20_crc/\")\n",
    "]\n",
    "names = [\n",
    "    \"laughney\",\n",
    "    \"lee\"\n",
    "]\n",
    "obs_names = [\n",
    "    \"major_hallmark_corrected\",\n",
    "    \"major_hallmark_corrected\"\n",
    "]\n",
    "label_upregs = [\n",
    "    \"Tumor\",\n",
    "    \"Tumor\",\n",
    "    \"Tumor\",\n",
    "    \"Tumor\",\n",
    "    \"Tumor\",\n",
    "    \"Tumor\"\n",
    "]\n",
    "label_downregs = [\n",
    "    \"Other\",\n",
    "    \"Epithelial\",\n",
    "    \"Immune\",\n",
    "    \"Fibroblast\",\n",
    "    \"Endothelial\",\n",
    "    \"Pericyte\"\n",
    "]\n",
    "adatas = {}\n",
    "for path, name in zip(paths, names):\n",
    "    adatas[name] = anndata.read_h5ad(path / \"adata.h5ad\")"
   ]
  },
  {
   "cell_type": "markdown",
   "metadata": {},
   "source": [
    "We loop over all pair-wise comparisons and over both input datasets,<br>\n",
    "and perform t-tests with overestimated variance so that we obtain<br>\n",
    "for each gene two (one for each dataset) estimates of log2fold changes.<br>\n",
    "For integrating the outcome of both datasets, first of all we just consider<br>\n",
    "genes available in both datasets (intersection). Then we compute for each gene<br>\n",
    "the weighted average of log2fold changes. For each pair-wise comparison we take<br>\n",
    "the top 300 of upregulated (highest averaged log2fold changes) genes."
   ]
  },
  {
   "cell_type": "code",
   "execution_count": 8,
   "metadata": {},
   "outputs": [
    {
     "name": "stdout",
     "output_type": "stream",
     "text": [
      "Either Tumor or Fibroblast is not available in given obs_name. None is returned.\n",
      "Either Tumor or Endothelial is not available in given obs_name. None is returned.\n",
      "Either Tumor or Pericyte is not available in given obs_name. None is returned.\n"
     ]
    }
   ],
   "source": [
    "signatures = gene_list.create_all(\n",
    "    label_upregs_list=label_upregs,\n",
    "    label_downregs_list=label_downregs,\n",
    "    adatas_dict=adatas,\n",
    "    names_list=names,\n",
    "    obs_names_list=obs_names,\n",
    "    integration_fun=utils.intersection_fun,\n",
    "    top_x=300\n",
    ")"
   ]
  },
  {
   "cell_type": "markdown",
   "metadata": {},
   "source": [
    "Here we use UpSetPlots to visualize the amount of genes overlapping across<br>\n",
    "multiple pair-wise comparisons."
   ]
  },
  {
   "cell_type": "code",
   "execution_count": 9,
   "metadata": {},
   "outputs": [
    {
     "data": {
      "image/png": "[encoded data removed]",
      "text/plain": [
       "<Figure size 279.359x384 with 4 Axes>"
      ]
     },
     "metadata": {
      "needs_background": "light"
     },
     "output_type": "display_data"
    }
   ],
   "source": [
    "contents = upsetplot.from_contents(signatures)\n",
    "_ = upsetplot.plot(contents, show_counts='%d')"
   ]
  },
  {
   "cell_type": "markdown",
   "metadata": {},
   "source": [
    "Get the intersection of all the different gene lists.<br>\n",
    "This leads to our final tumor gene list of 162 genes."
   ]
  },
  {
   "cell_type": "code",
   "execution_count": 10,
   "metadata": {},
   "outputs": [
    {
     "name": "stderr",
     "output_type": "stream",
     "text": [
      "<ipython-input-10-82e046d08432>:1: PerformanceWarning: indexing past lexsort depth may impact performance.\n",
      "  tumor_genes_intersection = contents.loc[\n"
     ]
    }
   ],
   "source": [
    "tumor_genes_intersection = contents.loc[\n",
    "    (True, True, True, True, True, True)\n",
    "].values.ravel().tolist()"
   ]
  },
  {
   "cell_type": "code",
   "execution_count": 11,
   "metadata": {},
   "outputs": [],
   "source": [
    "tumor_genes = tumor_genes_intersection"
   ]
  },
  {
   "cell_type": "markdown",
   "metadata": {},
   "source": [
    "Later, when creating the normal gene list, we will remove<br>\n",
    "those genes, which were also upregulated in the pair-wise<br>\n",
    "comparisons from above (Tumor vs. X). For that purpose, we<br>\n",
    "create here the union of the tumor genes coming from all<br>\n",
    "pair-wise comparisons. This is not used as our final Tumor gene<br>\n",
    "list. It's just used to refine the Normal gene list."
   ]
  },
  {
   "cell_type": "code",
   "execution_count": 12,
   "metadata": {},
   "outputs": [],
   "source": [
    "tumor_genes_union = []\n",
    "for i in signatures.values():\n",
    "    tumor_genes_union += i\n",
    "tumor_genes_union = list(set(tumor_genes_union)) # unique genes"
   ]
  },
  {
   "cell_type": "markdown",
   "metadata": {},
   "source": [
    "#### normal\n",
    "Basically repeat the above procedure for the normal gene list.<br>\n",
    "Though, here we take the union of genes upregulated in non-tumor cells. "
   ]
  },
  {
   "cell_type": "markdown",
   "metadata": {},
   "source": [
    "First, we define the input datasets used to create the gene lists,<br>\n",
    "the upregulated and downregulated cell types. Here, we consider<br>\n",
    "six different pair-wise comparisons:\n",
    "- Other vs. Tumor\n",
    "- Epithelial vs. Tumor\n",
    "- Immune vs. Tumor\n",
    "- Fibroblast vs. Tumor\n",
    "- Endothelial vs. Tumor\n",
    "- Pericyte vs. Tumor"
   ]
  },
  {
   "cell_type": "code",
   "execution_count": 13,
   "metadata": {},
   "outputs": [],
   "source": [
    "paths = [\n",
    "    Path(\"data/laughney20_lung/\"),\n",
    "    Path(\"data/lee20_crc/\")\n",
    "]\n",
    "names = [\n",
    "    \"laughney\",\n",
    "    \"lee\"\n",
    "]\n",
    "obs_names = [\n",
    "    \"major_hallmark_corrected\",\n",
    "    \"major_hallmark_corrected\"\n",
    "]\n",
    "label_downregs = [\n",
    "    \"Tumor\",\n",
    "    \"Tumor\",\n",
    "    \"Tumor\",\n",
    "    \"Tumor\",\n",
    "    \"Tumor\",\n",
    "    \"Tumor\"\n",
    "]\n",
    "label_upregs = [\n",
    "    \"Other\",\n",
    "    \"Epithelial\",\n",
    "    \"Immune\",\n",
    "    \"Fibroblast\",\n",
    "    \"Endothelial\",\n",
    "    \"Pericyte\"\n",
    "]\n",
    "adatas = {}\n",
    "for path, name in zip(paths, names):\n",
    "    adatas[name] = anndata.read_h5ad(path / \"adata.h5ad\")"
   ]
  },
  {
   "cell_type": "markdown",
   "metadata": {},
   "source": [
    "We loop over all pair-wise comparisons and over both input datasets,<br>\n",
    "and perform t-tests with overestimated variance so that we obtain<br>\n",
    "for each gene two (one for each dataset) estimates of log2fold changes.<br>\n",
    "For integrating the outcome of both datasets, first of all we just consider<br>\n",
    "genes available in both datasets (intersection). Then we compute for each gene<br>\n",
    "the weighted average of log2fold changes. For each pair-wise comparison we take<br>\n",
    "the top 300 of upregulated (highest averaged log2fold changes) genes."
   ]
  },
  {
   "cell_type": "code",
   "execution_count": 14,
   "metadata": {},
   "outputs": [
    {
     "name": "stdout",
     "output_type": "stream",
     "text": [
      "Either Fibroblast or Tumor is not available in given obs_name. None is returned.\n",
      "Either Endothelial or Tumor is not available in given obs_name. None is returned.\n",
      "Either Pericyte or Tumor is not available in given obs_name. None is returned.\n"
     ]
    }
   ],
   "source": [
    "signatures = gene_list.create_all(\n",
    "    label_upregs_list=label_upregs,\n",
    "    label_downregs_list=label_downregs,\n",
    "    adatas_dict=adatas,\n",
    "    names_list=names,\n",
    "    obs_names_list=obs_names,\n",
    "    integration_fun=utils.intersection_fun,\n",
    "    top_x=300\n",
    ")"
   ]
  },
  {
   "cell_type": "markdown",
   "metadata": {},
   "source": [
    "Again. here we use UpSetPlots to visualize the amount of genes overlapping<br>\n",
    "across multiple pair-wise comparisons."
   ]
  },
  {
   "cell_type": "code",
   "execution_count": 15,
   "metadata": {},
   "outputs": [
    {
     "data": {
      "image/png": "[encoded data removed]",
      "text/plain": [
       "<Figure size 631.359x384 with 4 Axes>"
      ]
     },
     "metadata": {
      "needs_background": "light"
     },
     "output_type": "display_data"
    }
   ],
   "source": [
    "contents = upsetplot.from_contents(signatures)\n",
    "_ = upsetplot.plot(contents, show_counts='%d')"
   ]
  },
  {
   "cell_type": "markdown",
   "metadata": {},
   "source": [
    "Get unique genes from the six pairwise comparisons."
   ]
  },
  {
   "cell_type": "code",
   "execution_count": 16,
   "metadata": {},
   "outputs": [],
   "source": [
    "normal_genes_union = []\n",
    "for i in signatures.values():\n",
    "    normal_genes_union += i\n",
    "normal_genes_union = list(set(normal_genes_union)) # unique genes"
   ]
  },
  {
   "cell_type": "markdown",
   "metadata": {},
   "source": [
    "Remove genes which are overlapping with the union of tumor genes<br>\n",
    "from all pair-wise comparisons with Tumor being the upregulated<br>\n",
    "class (see above)."
   ]
  },
  {
   "cell_type": "code",
   "execution_count": 17,
   "metadata": {},
   "outputs": [],
   "source": [
    "overlap = list(set(tumor_genes_union) & set(normal_genes_union))\n",
    "normal_genes = list(set(normal_genes_union) - set(overlap))"
   ]
  },
  {
   "cell_type": "markdown",
   "metadata": {},
   "source": [
    "Save signatures as `.gmt` file."
   ]
  },
  {
   "cell_type": "code",
   "execution_count": 18,
   "metadata": {},
   "outputs": [],
   "source": [
    "gene_list.save_gmt([normal_genes, tumor_genes], [\"Normal\", \"Tumor\"], out_dir=\"out_tutorial\")"
   ]
  },
  {
   "cell_type": "markdown",
   "metadata": {},
   "source": [
    "### make use of cnv information and correct prediction\n",
    "Altough, for this particular test data set this step might seem unnecessary,<br>\n",
    "incorporating cnv information might help to improve prediction results.\n",
    "\n",
    "[inferCNV, v1.3.3](https://github.com/broadinstitute/inferCNV) was used to compute CNV scores."
   ]
  },
  {
   "cell_type": "code",
   "execution_count": 15,
   "metadata": {},
   "outputs": [],
   "source": [
    "cnv_path = Path(\"data/tirosh/infercnv.observations.txt\")\n",
    "cnv = pd.read_csv(cnv_path, sep=' ')\n",
    "cnv.columns = cnv.columns.astype('int')\n",
    "cnv.sort_index(axis=1, inplace=True)\n",
    "cnv = cnv.T"
   ]
  },
  {
   "cell_type": "code",
   "execution_count": 16,
   "metadata": {},
   "outputs": [
    {
     "data": {
      "text/html": [
       "<div>\n",
       "<style scoped>\n",
       "    .dataframe tbody tr th:only-of-type {\n",
       "        vertical-align: middle;\n",
       "    }\n",
       "\n",
       "    .dataframe tbody tr th {\n",
       "        vertical-align: top;\n",
       "    }\n",
       "\n",
       "    .dataframe thead th {\n",
       "        text-align: right;\n",
       "    }\n",
       "</style>\n",
       "<table border=\"1\" class=\"dataframe\">\n",
       "  <thead>\n",
       "    <tr style=\"text-align: right;\">\n",
       "      <th></th>\n",
       "      <th>WASH7P</th>\n",
       "      <th>LINC00115</th>\n",
       "      <th>FAM41C</th>\n",
       "      <th>NOC2L</th>\n",
       "      <th>PLEKHN1</th>\n",
       "      <th>HES4</th>\n",
       "      <th>ISG15</th>\n",
       "      <th>AGRN</th>\n",
       "      <th>C1orf159</th>\n",
       "      <th>TNFRSF18</th>\n",
       "      <th>...</th>\n",
       "      <th>SBF1</th>\n",
       "      <th>LMF2</th>\n",
       "      <th>NCAPH2</th>\n",
       "      <th>SCO2</th>\n",
       "      <th>TYMP</th>\n",
       "      <th>ODF3B</th>\n",
       "      <th>CPT1B</th>\n",
       "      <th>CHKB</th>\n",
       "      <th>ARSA</th>\n",
       "      <th>RABL2B</th>\n",
       "    </tr>\n",
       "  </thead>\n",
       "  <tbody>\n",
       "    <tr>\n",
       "      <th>0</th>\n",
       "      <td>1.002759</td>\n",
       "      <td>1.002759</td>\n",
       "      <td>1.002759</td>\n",
       "      <td>1.002759</td>\n",
       "      <td>1.002759</td>\n",
       "      <td>1.002759</td>\n",
       "      <td>1.002759</td>\n",
       "      <td>1.002759</td>\n",
       "      <td>1.002759</td>\n",
       "      <td>1.002759</td>\n",
       "      <td>...</td>\n",
       "      <td>1.002759</td>\n",
       "      <td>1.002759</td>\n",
       "      <td>1.002759</td>\n",
       "      <td>1.002759</td>\n",
       "      <td>1.002759</td>\n",
       "      <td>1.002759</td>\n",
       "      <td>1.002759</td>\n",
       "      <td>1.002759</td>\n",
       "      <td>1.002759</td>\n",
       "      <td>1.002759</td>\n",
       "    </tr>\n",
       "    <tr>\n",
       "      <th>1</th>\n",
       "      <td>1.002759</td>\n",
       "      <td>1.002759</td>\n",
       "      <td>1.002759</td>\n",
       "      <td>1.002759</td>\n",
       "      <td>1.002759</td>\n",
       "      <td>1.002759</td>\n",
       "      <td>1.002759</td>\n",
       "      <td>1.002759</td>\n",
       "      <td>1.002759</td>\n",
       "      <td>1.002759</td>\n",
       "      <td>...</td>\n",
       "      <td>0.850724</td>\n",
       "      <td>0.850990</td>\n",
       "      <td>0.851188</td>\n",
       "      <td>0.850058</td>\n",
       "      <td>0.849016</td>\n",
       "      <td>0.848378</td>\n",
       "      <td>0.847733</td>\n",
       "      <td>0.847032</td>\n",
       "      <td>0.846197</td>\n",
       "      <td>0.845542</td>\n",
       "    </tr>\n",
       "  </tbody>\n",
       "</table>\n",
       "<p>2 rows × 11991 columns</p>\n",
       "</div>"
      ],
      "text/plain": [
       "     WASH7P  LINC00115    FAM41C     NOC2L   PLEKHN1      HES4     ISG15  \\\n",
       "0  1.002759   1.002759  1.002759  1.002759  1.002759  1.002759  1.002759   \n",
       "1  1.002759   1.002759  1.002759  1.002759  1.002759  1.002759  1.002759   \n",
       "\n",
       "       AGRN  C1orf159  TNFRSF18  ...      SBF1      LMF2    NCAPH2      SCO2  \\\n",
       "0  1.002759  1.002759  1.002759  ...  1.002759  1.002759  1.002759  1.002759   \n",
       "1  1.002759  1.002759  1.002759  ...  0.850724  0.850990  0.851188  0.850058   \n",
       "\n",
       "       TYMP     ODF3B     CPT1B      CHKB      ARSA    RABL2B  \n",
       "0  1.002759  1.002759  1.002759  1.002759  1.002759  1.002759  \n",
       "1  0.849016  0.848378  0.847733  0.847032  0.846197  0.845542  \n",
       "\n",
       "[2 rows x 11991 columns]"
      ]
     },
     "execution_count": 16,
     "metadata": {},
     "output_type": "execute_result"
    }
   ],
   "source": [
    "cnv.head(2)"
   ]
  },
  {
   "cell_type": "code",
   "execution_count": 18,
   "metadata": {},
   "outputs": [
    {
     "name": "stderr",
     "output_type": "stream",
     "text": [
      "/home/jdohmen/.miniconda3/envs/ikarus/lib/python3.8/site-packages/sklearn/linear_model/_logistic.py:763: ConvergenceWarning: lbfgs failed to converge (status=1):\n",
      "STOP: TOTAL NO. of ITERATIONS REACHED LIMIT.\n",
      "\n",
      "Increase the number of iterations (max_iter) or scale the data as shown in:\n",
      "    https://scikit-learn.org/stable/modules/preprocessing.html\n",
      "Please also refer to the documentation for alternative solver options:\n",
      "    https://scikit-learn.org/stable/modules/linear_model.html#logistic-regression\n",
      "  n_iter_i = _check_optimize_result(\n",
      "/home/jdohmen/.miniconda3/envs/ikarus/lib/python3.8/site-packages/pandas/core/arrays/categorical.py:2487: FutureWarning: The `inplace` parameter in pandas.Categorical.remove_unused_categories is deprecated and will be removed in a future version.\n",
      "  res = method(*args, **kwargs)\n",
      "Trying to set attribute `.uns` of view, copying.\n"
     ]
    },
    {
     "name": "stdout",
     "output_type": "stream",
     "text": [
      "converged at iteration step: 4 with 0.0002 < 0.001\n"
     ]
    }
   ],
   "source": [
    "_ = model.cnv_correct(cnv, adatas['tirosh'], save=True, name=\"tirosh\")"
   ]
  },
  {
   "cell_type": "markdown",
   "metadata": {},
   "source": [
    "Verify CNV corrected results."
   ]
  },
  {
   "cell_type": "code",
   "execution_count": 19,
   "metadata": {},
   "outputs": [],
   "source": [
    "path = Path(\"out_tutorial/tirosh\")\n",
    "results = pd.read_csv(path / \"prediction.csv\", index_col=0)\n",
    "adata = anndata.read_h5ad(path / \"adata_umap.h5ad\")"
   ]
  },
  {
   "cell_type": "code",
   "execution_count": 20,
   "metadata": {},
   "outputs": [
    {
     "data": {
      "text/html": [
       "<div>\n",
       "<style scoped>\n",
       "    .dataframe tbody tr th:only-of-type {\n",
       "        vertical-align: middle;\n",
       "    }\n",
       "\n",
       "    .dataframe tbody tr th {\n",
       "        vertical-align: top;\n",
       "    }\n",
       "\n",
       "    .dataframe thead th {\n",
       "        text-align: right;\n",
       "    }\n",
       "</style>\n",
       "<table border=\"1\" class=\"dataframe\">\n",
       "  <thead>\n",
       "    <tr style=\"text-align: right;\">\n",
       "      <th></th>\n",
       "      <th>Normal</th>\n",
       "      <th>Tumor</th>\n",
       "      <th>core_pred</th>\n",
       "      <th>core_pred_proba_Normal</th>\n",
       "      <th>core_pred_proba_Tumor</th>\n",
       "      <th>final_pred</th>\n",
       "      <th>final_pred_proba_Normal</th>\n",
       "      <th>final_pred_proba_Tumor</th>\n",
       "      <th>final_pred_cnv_corrected</th>\n",
       "    </tr>\n",
       "  </thead>\n",
       "  <tbody>\n",
       "    <tr>\n",
       "      <th>0</th>\n",
       "      <td>0.594337</td>\n",
       "      <td>0.022227</td>\n",
       "      <td>Normal</td>\n",
       "      <td>0.860578</td>\n",
       "      <td>0.139422</td>\n",
       "      <td>Normal</td>\n",
       "      <td>0.855554</td>\n",
       "      <td>0.144446</td>\n",
       "      <td>Normal</td>\n",
       "    </tr>\n",
       "    <tr>\n",
       "      <th>1</th>\n",
       "      <td>0.497349</td>\n",
       "      <td>0.018539</td>\n",
       "      <td>Normal</td>\n",
       "      <td>0.869987</td>\n",
       "      <td>0.130013</td>\n",
       "      <td>Normal</td>\n",
       "      <td>0.844260</td>\n",
       "      <td>0.155740</td>\n",
       "      <td>Normal</td>\n",
       "    </tr>\n",
       "  </tbody>\n",
       "</table>\n",
       "</div>"
      ],
      "text/plain": [
       "     Normal     Tumor core_pred  core_pred_proba_Normal  \\\n",
       "0  0.594337  0.022227    Normal                0.860578   \n",
       "1  0.497349  0.018539    Normal                0.869987   \n",
       "\n",
       "   core_pred_proba_Tumor final_pred  final_pred_proba_Normal  \\\n",
       "0               0.139422     Normal                 0.855554   \n",
       "1               0.130013     Normal                 0.844260   \n",
       "\n",
       "   final_pred_proba_Tumor final_pred_cnv_corrected  \n",
       "0                0.144446                   Normal  \n",
       "1                0.155740                   Normal  "
      ]
     },
     "execution_count": 20,
     "metadata": {},
     "output_type": "execute_result"
    }
   ],
   "source": [
    "results.head(2)"
   ]
  },
  {
   "cell_type": "code",
   "execution_count": 22,
   "metadata": {},
   "outputs": [
    {
     "name": "stdout",
     "output_type": "stream",
     "text": [
      "              precision    recall  f1-score   support\n",
      "\n",
      "      Normal       1.00      1.00      1.00      3363\n",
      "       Tumor       1.00      1.00      1.00      2215\n",
      "\n",
      "    accuracy                           1.00      5578\n",
      "   macro avg       1.00      1.00      1.00      5578\n",
      "weighted avg       1.00      1.00      1.00      5578\n",
      "\n"
     ]
    },
    {
     "data": {
      "image/png": "[encoded data removed]",
      "text/plain": [
       "<Figure size 432x288 with 2 Axes>"
      ]
     },
     "metadata": {
      "needs_background": "light"
     },
     "output_type": "display_data"
    }
   ],
   "source": [
    "y = adata.obs.loc[:, 'tier_0']\n",
    "y_pred_lr = results['final_pred_cnv_corrected']\n",
    "acc = metrics.balanced_accuracy_score(y, y_pred_lr)\n",
    "print(metrics.classification_report(y, y_pred_lr, labels=['Normal', 'Tumor']))\n",
    "_ = plot_confusion_matrix(\n",
    "    y,\n",
    "    y_pred_lr,\n",
    "    classes=['Normal', 'Tumor'],\n",
    "    title=f'confusion matrix \\n train on laughney+lee, test on tirosh \\n cnv corrected \\n balanced acc: {acc:.3f}',\n",
    ")"
   ]
  }
 ],
 "metadata": {
  "kernelspec": {
   "display_name": "Python [conda env:ikarus-test] *",
   "language": "python",
   "name": "conda-env-ikarus-test-py"
  },
  "language_info": {
   "codemirror_mode": {
    "name": "ipython",
    "version": 3
   },
   "file_extension": ".py",
   "mimetype": "text/x-python",
   "name": "python",
   "nbconvert_exporter": "python",
   "pygments_lexer": "ipython3",
   "version": "3.8.10"
  }
 },
 "nbformat": 4,
 "nbformat_minor": 4
}
